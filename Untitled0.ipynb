{
  "nbformat": 4,
  "nbformat_minor": 0,
  "metadata": {
    "colab": {
      "provenance": [],
      "authorship_tag": "ABX9TyOqeTg+9JIhudruq3QqIUz2",
      "include_colab_link": true
    },
    "kernelspec": {
      "name": "python3",
      "display_name": "Python 3"
    },
    "language_info": {
      "name": "python"
    }
  },
  "cells": [
    {
      "cell_type": "markdown",
      "metadata": {
        "id": "view-in-github",
        "colab_type": "text"
      },
      "source": [
        "<a href=\"https://colab.research.google.com/github/Dimasputra2530/Feature-scaling/blob/main/Untitled0.ipynb\" target=\"_parent\"><img src=\"https://colab.research.google.com/assets/colab-badge.svg\" alt=\"Open In Colab\"/></a>"
      ]
    },
    {
      "cell_type": "code",
      "execution_count": null,
      "metadata": {
        "id": "A-X-1vqw9cH-"
      },
      "outputs": [],
      "source": [
        "# Impor pustaka yang diperlukan\n",
        "import pandas as pd\n",
        "from sklearn.preprocessing import StandardScaler\n",
        "from sklearn.model_selection import train_test_split\n",
        "\n",
        "# Muat set data Wine Quality Red\n",
        "df = pd.read_csv('winequality-red.csv', delimiter=';')#jika file CSV menggunakan koma (,): Anda tidak perlu menentukan delimiter, karena koma adalah pemisah default.\n",
        "#Jika file CSV menggunakan titik koma (;): Anda harus menentukan delimiter=';' saat membaca file dengan pd.read_csv().\n",
        "\n",
        "# Pisahkan fitur dan target\n",
        "X = df.drop(columns='quality')\n",
        "y = df['quality']\n",
        "\n",
        "# Pisahkan set data menjadi set pelatihan-uji 80-20\n",
        "X_train, X_test, y_train, y_test = train_test_split(X, y, test_size = 0.2, random_state = 42)\n",
        "\n",
        "# Buat instance kelas StandardScaler\n",
        "sc = StandardScaler()\n",
        "# Sesuaikan StandardScaler pada fitur dari set pelatihan dan ubahlah\n",
        "X_train = sc.fit_transform(X_train)\n",
        "\n",
        "# Terapkan transformasi ke set pengujian\n",
        "X_test = sc.transform(X_test)\n",
        "\n",
        "# Cetak set data pelatihan dan pengujian berskala\n",
        "print(\"Set pelatihan berskala:\\n\", X_train)\n",
        "print(\"Set pengujian berskala:\\n\", X_test)"
      ]
    }
  ]
}
